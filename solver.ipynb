{
 "cells": [
  {
   "cell_type": "code",
   "execution_count": 1,
   "id": "4dfba7bb-7e3c-487f-8751-a87d069c75ff",
   "metadata": {
    "tags": []
   },
   "outputs": [
    {
     "ename": "SyntaxError",
     "evalue": "invalid syntax (1810982848.py, line 18)",
     "output_type": "error",
     "traceback": [
      "\u001b[1;36m  Cell \u001b[1;32mIn[1], line 18\u001b[1;36m\u001b[0m\n\u001b[1;33m    dist = # Define your distance function here\u001b[0m\n\u001b[1;37m           ^\u001b[0m\n\u001b[1;31mSyntaxError\u001b[0m\u001b[1;31m:\u001b[0m invalid syntax\n"
     ]
    }
   ],
   "source": [
    "\n",
    "from pulp as plp\n",
    "\n",
    "track = [ [40, 195],[ 60, 200],[100, 200],[140, 200],[160, 190],[170, 180],[180, 160],\n",
    "         [190, 120],[180,  90],[170,  70],[160,  60],[140,  60],[130,  80],[130, 110],\n",
    "         [120, 130],[100, 140], [70, 130],[ 40, 130], [20, 150],[ 20, 170],[ 30, 190]]\n",
    "\n",
    "\n",
    "\n",
    "# Create the 'prob' variable to contain the problem data\n",
    "prob = plp.LpProblem(\"Car Problem\", plp.LpMinimize)\n",
    "\n",
    "# Variables\n",
    "forw = plp.LpVariable(\"forw\", 0, 1, cat='Integer')  # binary variable\n",
    "left = plp.LpVariable(\"left\", 0, 1, cat='Integer')  # binary variable\n",
    "rite = plp.LpVariable(\"rite\", 0, 1, cat='Integer')  # binary variable\n",
    "sped = plp.LpVariable(\"sped\", 0, 0.8)\n",
    "angl = plp.LpVariable(\"angl\", -10000, 10000)\n",
    "turn = plp.LpVariable(\"turn\", 0.02, 0.1)\n",
    "carx = plp.LpVariable(\"carx\", 0, 1000)\n",
    "cary = plp.LpVariable(\"cary\", 0, 1000)\n",
    "\n",
    "# The objective function is added to 'prob' first\n",
    "# Assuming 'dist' is a function of the variables\n",
    "dist = # Define your distance function here\n",
    "prob += dist, \"Total Distance\"\n",
    "\n",
    "# Constraints\n",
    "# Add your constraints here\n",
    "\n",
    "# The problem is solved using PuLP's choice of Solver\n",
    "prob.solve()"
   ]
  },
  {
   "cell_type": "code",
   "execution_count": null,
   "id": "68f03446-be05-4a4d-b6c9-ff904fcd583b",
   "metadata": {},
   "outputs": [],
   "source": []
  }
 ],
 "metadata": {
  "kernelspec": {
   "display_name": "Python 3 (ipykernel)",
   "language": "python",
   "name": "python3"
  },
  "language_info": {
   "codemirror_mode": {
    "name": "ipython",
    "version": 3
   },
   "file_extension": ".py",
   "mimetype": "text/x-python",
   "name": "python",
   "nbconvert_exporter": "python",
   "pygments_lexer": "ipython3",
   "version": "3.11.5"
  }
 },
 "nbformat": 4,
 "nbformat_minor": 5
}
