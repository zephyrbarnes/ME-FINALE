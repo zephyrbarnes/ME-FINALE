{
 "cells": [
  {
   "cell_type": "code",
   "execution_count": 5,
   "id": "4dfba7bb-7e3c-487f-8751-a87d069c75ff",
   "metadata": {},
   "outputs": [
    {
     "name": "stdout",
     "output_type": "stream",
     "text": [
      "\n",
      "Solution for S:\n",
      "[[ 0.17127556 -0.27712668  0.11835316 -0.06624765]\n",
      " [-0.27712668  4.34475937 -1.00805287  0.73674196]\n",
      " [ 0.11835316 -1.00805287  0.37715234 -0.21279819]\n",
      " [-0.06624765  0.73674196 -0.21279819  0.14559073]]\n"
     ]
    }
   ],
   "source": [
    "\n",
    "from pulp import LpProblem, LpMinimize, LpVariable, lpSum\n",
    "\n",
    "# Create the 'prob' variable to contain the problem data\n",
    "prob = LpProblem(\"Car Problem\", LpMinimize)\n",
    "\n",
    "# Variables\n",
    "forw = LpVariable(\"forw\", 0, 1, cat='Integer')  # binary variable\n",
    "left = LpVariable(\"left\", 0, 1, cat='Integer')  # binary variable\n",
    "rite = LpVariable(\"rite\", 0, 1, cat='Integer')  # binary variable\n",
    "sped = LpVariable(\"sped\", 0, 0.8)\n",
    "angl = LpVariable(\"angl\", -10000, 10000)\n",
    "turn = LpVariable(\"turn\", 0.02, 0.1)\n",
    "carx = LpVariable(\"carx\", 0, 1000)\n",
    "cary = LpVariable(\"cary\", 0, 1000)\n",
    "\n",
    "# The objective function is added to 'prob' first\n",
    "# Assuming 'dist' is a function of the variables\n",
    "dist = # Define your distance function here\n",
    "prob += dist, \"Total Distance\"\n",
    "\n",
    "# Constraints\n",
    "# Add your constraints here\n",
    "\n",
    "# The problem is solved using PuLP's choice of Solver\n",
    "prob.solve()"
   ]
  }
 ],
 "metadata": {
  "kernelspec": {
   "display_name": "Python 3 (ipykernel)",
   "language": "python",
   "name": "python3"
  },
  "language_info": {
   "codemirror_mode": {
    "name": "ipython",
    "version": 3
   },
   "file_extension": ".py",
   "mimetype": "text/x-python",
   "name": "python",
   "nbconvert_exporter": "python",
   "pygments_lexer": "ipython3",
   "version": "3.11.5"
  }
 },
 "nbformat": 4,
 "nbformat_minor": 5
}
