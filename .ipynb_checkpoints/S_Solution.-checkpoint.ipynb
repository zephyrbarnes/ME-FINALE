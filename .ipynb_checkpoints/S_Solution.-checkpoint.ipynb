{
 "cells": [
  {
   "cell_type": "code",
   "execution_count": 5,
   "id": "4dfba7bb-7e3c-487f-8751-a87d069c75ff",
   "metadata": {},
   "outputs": [
    {
     "name": "stdout",
     "output_type": "stream",
     "text": [
      "\n",
      "Solution for S:\n",
      "[[ 0.17127556 -0.27712668  0.11835316 -0.06624765]\n",
      " [-0.27712668  4.34475937 -1.00805287  0.73674196]\n",
      " [ 0.11835316 -1.00805287  0.37715234 -0.21279819]\n",
      " [-0.06624765  0.73674196 -0.21279819  0.14559073]]\n"
     ]
    }
   ],
   "source": [
    "import numpy as np\n",
    "import control as ctrl\n",
    "\n",
    "mc = 0.2\n",
    "mp = 0.5\n",
    "l = 0.5\n",
    "g = 9.80364\n",
    "\n",
    "A = np.array([[0, 0, 1, 0],\n",
    "              [0, 0, 0, 1],\n",
    "              [0, mp * g / mc, 0, 0],\n",
    "              [0, (mc + mp) * g / (mc * l), 0, 0]])\n",
    "\n",
    "B = np.array([[0], [0], [1 / mc], [1 / (mc * l)]])\n",
    "\n",
    "Q = np.diag([1 / 20, mp * g * l, 1 / 2 * (mc + mp), 1 / 2 * mp * l * l])\n",
    "Q[2, 3] = 1 / 2 * mp * l\n",
    "Q[3, 2] = Q[2, 3]\n",
    "\n",
    "R = np.array([[1 / 10]])\n",
    "\n",
    "K, S, E = ctrl.lqr(A, B, Q, R)\n",
    "\n",
    "print(\"\\nSolution for S:\")\n",
    "print(S)\n"
   ]
  },
  {
   "cell_type": "code",
   "execution_count": null,
   "id": "cfad91d2-b804-4fa2-a064-576dfc0be522",
   "metadata": {},
   "outputs": [],
   "source": []
  }
 ],
 "metadata": {
  "kernelspec": {
   "display_name": "Python 3 (ipykernel)",
   "language": "python",
   "name": "python3"
  },
  "language_info": {
   "codemirror_mode": {
    "name": "ipython",
    "version": 3
   },
   "file_extension": ".py",
   "mimetype": "text/x-python",
   "name": "python",
   "nbconvert_exporter": "python",
   "pygments_lexer": "ipython3",
   "version": "3.11.5"
  }
 },
 "nbformat": 4,
 "nbformat_minor": 5
}
